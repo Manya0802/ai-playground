{
 "cells": [
  {
   "cell_type": "code",
   "execution_count": 20,
   "id": "fd9739a8-8486-46e9-8b4a-a17e123ddad8",
   "metadata": {},
   "outputs": [],
   "source": [
    "from mpl_toolkits.mplot3d import Axes3D\n",
    "from sklearn.preprocessing import StandardScaler\n",
    "from sklearn import preprocessing\n",
    "from sklearn.model_selection import train_test_split\n",
    "from sklearn import model_selection\n",
    "from sklearn import svm\n",
    "import arrow\n",
    "\n",
    "import matplotlib.pyplot as plt \n",
    "import numpy as np \n",
    "import os \n",
    "import pandas as pd"
   ]
  },
  {
   "cell_type": "code",
   "execution_count": 2,
   "id": "021923c6-0c67-44bb-9051-8813f29805f8",
   "metadata": {},
   "outputs": [],
   "source": [
    "df = pd.read_csv(\"SHARADAR-Stock.csv\")"
   ]
  },
  {
   "cell_type": "code",
   "execution_count": 3,
   "id": "26326e1d-98a8-43ea-a751-ba007b3451c1",
   "metadata": {},
   "outputs": [
    {
     "data": {
      "text/html": [
       "<div>\n",
       "<style scoped>\n",
       "    .dataframe tbody tr th:only-of-type {\n",
       "        vertical-align: middle;\n",
       "    }\n",
       "\n",
       "    .dataframe tbody tr th {\n",
       "        vertical-align: top;\n",
       "    }\n",
       "\n",
       "    .dataframe thead th {\n",
       "        text-align: right;\n",
       "    }\n",
       "</style>\n",
       "<table border=\"1\" class=\"dataframe\">\n",
       "  <thead>\n",
       "    <tr style=\"text-align: right;\">\n",
       "      <th></th>\n",
       "      <th>ticker</th>\n",
       "      <th>date</th>\n",
       "      <th>open</th>\n",
       "      <th>high</th>\n",
       "      <th>low</th>\n",
       "      <th>close</th>\n",
       "      <th>volume</th>\n",
       "      <th>dividends</th>\n",
       "      <th>closeunadj</th>\n",
       "      <th>lastupdated</th>\n",
       "    </tr>\n",
       "  </thead>\n",
       "  <tbody>\n",
       "    <tr>\n",
       "      <th>0</th>\n",
       "      <td>XOM</td>\n",
       "      <td>9/21/2018</td>\n",
       "      <td>85.01</td>\n",
       "      <td>85.43</td>\n",
       "      <td>84.52</td>\n",
       "      <td>85.17</td>\n",
       "      <td>26196749</td>\n",
       "      <td>0.0</td>\n",
       "      <td>85.17</td>\n",
       "      <td>9/21/2018</td>\n",
       "    </tr>\n",
       "    <tr>\n",
       "      <th>1</th>\n",
       "      <td>XOM</td>\n",
       "      <td>9/20/2018</td>\n",
       "      <td>84.86</td>\n",
       "      <td>85.34</td>\n",
       "      <td>84.54</td>\n",
       "      <td>84.82</td>\n",
       "      <td>10621638</td>\n",
       "      <td>0.0</td>\n",
       "      <td>84.82</td>\n",
       "      <td>9/20/2018</td>\n",
       "    </tr>\n",
       "    <tr>\n",
       "      <th>2</th>\n",
       "      <td>XOM</td>\n",
       "      <td>9/19/2018</td>\n",
       "      <td>83.64</td>\n",
       "      <td>84.77</td>\n",
       "      <td>83.64</td>\n",
       "      <td>84.63</td>\n",
       "      <td>9787326</td>\n",
       "      <td>0.0</td>\n",
       "      <td>84.63</td>\n",
       "      <td>9/19/2018</td>\n",
       "    </tr>\n",
       "    <tr>\n",
       "      <th>3</th>\n",
       "      <td>XOM</td>\n",
       "      <td>9/18/2018</td>\n",
       "      <td>83.90</td>\n",
       "      <td>84.13</td>\n",
       "      <td>83.45</td>\n",
       "      <td>83.63</td>\n",
       "      <td>8799790</td>\n",
       "      <td>0.0</td>\n",
       "      <td>83.63</td>\n",
       "      <td>9/18/2018</td>\n",
       "    </tr>\n",
       "    <tr>\n",
       "      <th>4</th>\n",
       "      <td>XOM</td>\n",
       "      <td>9/17/2018</td>\n",
       "      <td>83.00</td>\n",
       "      <td>83.61</td>\n",
       "      <td>82.99</td>\n",
       "      <td>83.41</td>\n",
       "      <td>7898451</td>\n",
       "      <td>0.0</td>\n",
       "      <td>83.41</td>\n",
       "      <td>9/17/2018</td>\n",
       "    </tr>\n",
       "  </tbody>\n",
       "</table>\n",
       "</div>"
      ],
      "text/plain": [
       "  ticker       date   open   high    low  close    volume  dividends  \\\n",
       "0    XOM  9/21/2018  85.01  85.43  84.52  85.17  26196749        0.0   \n",
       "1    XOM  9/20/2018  84.86  85.34  84.54  84.82  10621638        0.0   \n",
       "2    XOM  9/19/2018  83.64  84.77  83.64  84.63   9787326        0.0   \n",
       "3    XOM  9/18/2018  83.90  84.13  83.45  83.63   8799790        0.0   \n",
       "4    XOM  9/17/2018  83.00  83.61  82.99  83.41   7898451        0.0   \n",
       "\n",
       "   closeunadj lastupdated  \n",
       "0       85.17   9/21/2018  \n",
       "1       84.82   9/20/2018  \n",
       "2       84.63   9/19/2018  \n",
       "3       83.63   9/18/2018  \n",
       "4       83.41   9/17/2018  "
      ]
     },
     "execution_count": 3,
     "metadata": {},
     "output_type": "execute_result"
    }
   ],
   "source": [
    "df.head()"
   ]
  },
  {
   "cell_type": "code",
   "execution_count": 4,
   "id": "d61aa6dc-724f-42de-9f79-48da010fa3a0",
   "metadata": {},
   "outputs": [
    {
     "name": "stdout",
     "output_type": "stream",
     "text": [
      "<class 'pandas.core.frame.DataFrame'>\n",
      "RangeIndex: 10000 entries, 0 to 9999\n",
      "Data columns (total 10 columns):\n",
      " #   Column       Non-Null Count  Dtype  \n",
      "---  ------       --------------  -----  \n",
      " 0   ticker       10000 non-null  object \n",
      " 1   date         10000 non-null  object \n",
      " 2   open         10000 non-null  float64\n",
      " 3   high         10000 non-null  float64\n",
      " 4   low          10000 non-null  float64\n",
      " 5   close        10000 non-null  float64\n",
      " 6   volume       10000 non-null  int64  \n",
      " 7   dividends    10000 non-null  float64\n",
      " 8   closeunadj   10000 non-null  float64\n",
      " 9   lastupdated  10000 non-null  object \n",
      "dtypes: float64(6), int64(1), object(3)\n",
      "memory usage: 781.4+ KB\n"
     ]
    }
   ],
   "source": [
    "df.info()"
   ]
  },
  {
   "cell_type": "code",
   "execution_count": 5,
   "id": "308a02a0-5308-44c5-9a17-c51d08dfab61",
   "metadata": {},
   "outputs": [
    {
     "data": {
      "text/html": [
       "<div>\n",
       "<style scoped>\n",
       "    .dataframe tbody tr th:only-of-type {\n",
       "        vertical-align: middle;\n",
       "    }\n",
       "\n",
       "    .dataframe tbody tr th {\n",
       "        vertical-align: top;\n",
       "    }\n",
       "\n",
       "    .dataframe thead th {\n",
       "        text-align: right;\n",
       "    }\n",
       "</style>\n",
       "<table border=\"1\" class=\"dataframe\">\n",
       "  <thead>\n",
       "    <tr style=\"text-align: right;\">\n",
       "      <th></th>\n",
       "      <th>open</th>\n",
       "      <th>high</th>\n",
       "      <th>low</th>\n",
       "      <th>close</th>\n",
       "      <th>volume</th>\n",
       "      <th>dividends</th>\n",
       "      <th>closeunadj</th>\n",
       "    </tr>\n",
       "  </thead>\n",
       "  <tbody>\n",
       "    <tr>\n",
       "      <th>count</th>\n",
       "      <td>10000.000000</td>\n",
       "      <td>10000.000000</td>\n",
       "      <td>10000.000000</td>\n",
       "      <td>10000.000000</td>\n",
       "      <td>1.000000e+04</td>\n",
       "      <td>10000.000000</td>\n",
       "      <td>10000.000000</td>\n",
       "    </tr>\n",
       "    <tr>\n",
       "      <th>mean</th>\n",
       "      <td>63.206224</td>\n",
       "      <td>63.775191</td>\n",
       "      <td>62.640059</td>\n",
       "      <td>63.224055</td>\n",
       "      <td>1.380657e+07</td>\n",
       "      <td>0.005723</td>\n",
       "      <td>66.692552</td>\n",
       "    </tr>\n",
       "    <tr>\n",
       "      <th>std</th>\n",
       "      <td>17.927354</td>\n",
       "      <td>18.006411</td>\n",
       "      <td>17.862488</td>\n",
       "      <td>17.942976</td>\n",
       "      <td>8.799690e+06</td>\n",
       "      <td>0.051570</td>\n",
       "      <td>16.697951</td>\n",
       "    </tr>\n",
       "    <tr>\n",
       "      <th>min</th>\n",
       "      <td>28.375000</td>\n",
       "      <td>29.500000</td>\n",
       "      <td>28.315000</td>\n",
       "      <td>29.065000</td>\n",
       "      <td>1.735400e+06</td>\n",
       "      <td>0.000000</td>\n",
       "      <td>30.270000</td>\n",
       "    </tr>\n",
       "    <tr>\n",
       "      <th>25%</th>\n",
       "      <td>48.770000</td>\n",
       "      <td>49.317500</td>\n",
       "      <td>48.240000</td>\n",
       "      <td>48.767500</td>\n",
       "      <td>8.156538e+06</td>\n",
       "      <td>0.000000</td>\n",
       "      <td>52.720000</td>\n",
       "    </tr>\n",
       "    <tr>\n",
       "      <th>50%</th>\n",
       "      <td>59.545000</td>\n",
       "      <td>60.060000</td>\n",
       "      <td>58.965000</td>\n",
       "      <td>59.532500</td>\n",
       "      <td>1.128900e+07</td>\n",
       "      <td>0.000000</td>\n",
       "      <td>68.035000</td>\n",
       "    </tr>\n",
       "    <tr>\n",
       "      <th>75%</th>\n",
       "      <td>78.632500</td>\n",
       "      <td>79.332500</td>\n",
       "      <td>78.032500</td>\n",
       "      <td>78.750000</td>\n",
       "      <td>1.704400e+07</td>\n",
       "      <td>0.000000</td>\n",
       "      <td>80.870000</td>\n",
       "    </tr>\n",
       "    <tr>\n",
       "      <th>max</th>\n",
       "      <td>109.140000</td>\n",
       "      <td>109.980000</td>\n",
       "      <td>107.990000</td>\n",
       "      <td>109.550000</td>\n",
       "      <td>1.180235e+08</td>\n",
       "      <td>0.820000</td>\n",
       "      <td>109.550000</td>\n",
       "    </tr>\n",
       "  </tbody>\n",
       "</table>\n",
       "</div>"
      ],
      "text/plain": [
       "               open          high           low         close        volume  \\\n",
       "count  10000.000000  10000.000000  10000.000000  10000.000000  1.000000e+04   \n",
       "mean      63.206224     63.775191     62.640059     63.224055  1.380657e+07   \n",
       "std       17.927354     18.006411     17.862488     17.942976  8.799690e+06   \n",
       "min       28.375000     29.500000     28.315000     29.065000  1.735400e+06   \n",
       "25%       48.770000     49.317500     48.240000     48.767500  8.156538e+06   \n",
       "50%       59.545000     60.060000     58.965000     59.532500  1.128900e+07   \n",
       "75%       78.632500     79.332500     78.032500     78.750000  1.704400e+07   \n",
       "max      109.140000    109.980000    107.990000    109.550000  1.180235e+08   \n",
       "\n",
       "          dividends    closeunadj  \n",
       "count  10000.000000  10000.000000  \n",
       "mean       0.005723     66.692552  \n",
       "std        0.051570     16.697951  \n",
       "min        0.000000     30.270000  \n",
       "25%        0.000000     52.720000  \n",
       "50%        0.000000     68.035000  \n",
       "75%        0.000000     80.870000  \n",
       "max        0.820000    109.550000  "
      ]
     },
     "execution_count": 5,
     "metadata": {},
     "output_type": "execute_result"
    }
   ],
   "source": [
    "df.describe()"
   ]
  },
  {
   "cell_type": "code",
   "execution_count": 6,
   "id": "dbbf5def-e010-4043-875c-04b6e0f9da1b",
   "metadata": {},
   "outputs": [
    {
     "data": {
      "text/plain": [
       "ticker         0\n",
       "date           0\n",
       "open           0\n",
       "high           0\n",
       "low            0\n",
       "close          0\n",
       "volume         0\n",
       "dividends      0\n",
       "closeunadj     0\n",
       "lastupdated    0\n",
       "dtype: int64"
      ]
     },
     "execution_count": 6,
     "metadata": {},
     "output_type": "execute_result"
    }
   ],
   "source": [
    "df.isnull().sum()"
   ]
  },
  {
   "cell_type": "code",
   "execution_count": 7,
   "id": "179cc0a1-7616-40f2-91d0-1c5e90d9e4d4",
   "metadata": {},
   "outputs": [
    {
     "name": "stdout",
     "output_type": "stream",
     "text": [
      "    open   high    low  close    volume\n",
      "0  85.01  85.43  84.52  85.17  26196749\n",
      "1  84.86  85.34  84.54  84.82  10621638\n",
      "2  83.64  84.77  83.64  84.63   9787326\n",
      "3  83.90  84.13  83.45  83.63   8799790\n",
      "4  83.00  83.61  82.99  83.41   7898451\n"
     ]
    }
   ],
   "source": [
    "df=df[['open','high','low','close','volume']]\n",
    "print (df.head())"
   ]
  },
  {
   "cell_type": "code",
   "execution_count": 8,
   "id": "ff413fb6-3cfb-4893-81ed-95018012e687",
   "metadata": {},
   "outputs": [
    {
     "data": {
      "text/html": [
       "<div>\n",
       "<style scoped>\n",
       "    .dataframe tbody tr th:only-of-type {\n",
       "        vertical-align: middle;\n",
       "    }\n",
       "\n",
       "    .dataframe tbody tr th {\n",
       "        vertical-align: top;\n",
       "    }\n",
       "\n",
       "    .dataframe thead th {\n",
       "        text-align: right;\n",
       "    }\n",
       "</style>\n",
       "<table border=\"1\" class=\"dataframe\">\n",
       "  <thead>\n",
       "    <tr style=\"text-align: right;\">\n",
       "      <th></th>\n",
       "      <th>close</th>\n",
       "      <th>HIGHLOW_PCT</th>\n",
       "      <th>PCT_Change</th>\n",
       "      <th>volume</th>\n",
       "    </tr>\n",
       "  </thead>\n",
       "  <tbody>\n",
       "    <tr>\n",
       "      <th>0</th>\n",
       "      <td>85.17</td>\n",
       "      <td>0.305272</td>\n",
       "      <td>0.188213</td>\n",
       "      <td>26196749</td>\n",
       "    </tr>\n",
       "    <tr>\n",
       "      <th>1</th>\n",
       "      <td>84.82</td>\n",
       "      <td>0.613063</td>\n",
       "      <td>-0.047136</td>\n",
       "      <td>10621638</td>\n",
       "    </tr>\n",
       "    <tr>\n",
       "      <th>2</th>\n",
       "      <td>84.63</td>\n",
       "      <td>0.165426</td>\n",
       "      <td>1.183644</td>\n",
       "      <td>9787326</td>\n",
       "    </tr>\n",
       "    <tr>\n",
       "      <th>3</th>\n",
       "      <td>83.63</td>\n",
       "      <td>0.597872</td>\n",
       "      <td>-0.321812</td>\n",
       "      <td>8799790</td>\n",
       "    </tr>\n",
       "    <tr>\n",
       "      <th>4</th>\n",
       "      <td>83.41</td>\n",
       "      <td>0.239779</td>\n",
       "      <td>0.493976</td>\n",
       "      <td>7898451</td>\n",
       "    </tr>\n",
       "  </tbody>\n",
       "</table>\n",
       "</div>"
      ],
      "text/plain": [
       "   close  HIGHLOW_PCT  PCT_Change    volume\n",
       "0  85.17     0.305272    0.188213  26196749\n",
       "1  84.82     0.613063   -0.047136  10621638\n",
       "2  84.63     0.165426    1.183644   9787326\n",
       "3  83.63     0.597872   -0.321812   8799790\n",
       "4  83.41     0.239779    0.493976   7898451"
      ]
     },
     "metadata": {},
     "output_type": "display_data"
    }
   ],
   "source": [
    "df['HIGHLOW_PCT']=(df['high']-df['close'])/(df['close'])*100\n",
    "df['PCT_Change']=(df['close']-df['open'])/(df['open'])*100\n",
    "df=df[['close','HIGHLOW_PCT','PCT_Change','volume']]\n",
    "display(df.head())"
   ]
  },
  {
   "cell_type": "code",
   "execution_count": 9,
   "id": "66f7e9fb-124e-459a-9e83-a5f3e476e56c",
   "metadata": {},
   "outputs": [
    {
     "name": "stdout",
     "output_type": "stream",
     "text": [
      "100\n",
      "   close  HIGHLOW_PCT  PCT_Change    volume  label\n",
      "0  85.17     0.305272    0.188213  26196749  76.95\n",
      "1  84.82     0.613063   -0.047136  10621638  77.75\n",
      "2  84.63     0.165426    1.183644   9787326  77.79\n",
      "3  83.63     0.597872   -0.321812   8799790  80.86\n",
      "4  83.41     0.239779    0.493976   7898451  79.50\n"
     ]
    }
   ],
   "source": [
    "import math\n",
    "\n",
    "forecast_col = 'close'\n",
    "df.fillna(-99999, inplace=True)\n",
    "forecast_out = int(math.ceil(0.01 * len(df)))\n",
    "print(forecast_out)\n",
    "df['label'] = df[forecast_col].shift(-forecast_out)\n",
    "print (df.head())"
   ]
  },
  {
   "cell_type": "code",
   "execution_count": 10,
   "id": "f2a7475b-5136-4db2-b0b7-7436849b0e4f",
   "metadata": {},
   "outputs": [
    {
     "data": {
      "text/html": [
       "<div>\n",
       "<style scoped>\n",
       "    .dataframe tbody tr th:only-of-type {\n",
       "        vertical-align: middle;\n",
       "    }\n",
       "\n",
       "    .dataframe tbody tr th {\n",
       "        vertical-align: top;\n",
       "    }\n",
       "\n",
       "    .dataframe thead th {\n",
       "        text-align: right;\n",
       "    }\n",
       "</style>\n",
       "<table border=\"1\" class=\"dataframe\">\n",
       "  <thead>\n",
       "    <tr style=\"text-align: right;\">\n",
       "      <th></th>\n",
       "      <th>close</th>\n",
       "      <th>HIGHLOW_PCT</th>\n",
       "      <th>PCT_Change</th>\n",
       "      <th>volume</th>\n",
       "      <th>label</th>\n",
       "    </tr>\n",
       "  </thead>\n",
       "  <tbody>\n",
       "    <tr>\n",
       "      <th>9995</th>\n",
       "      <td>46.50</td>\n",
       "      <td>2.150538</td>\n",
       "      <td>-0.128866</td>\n",
       "      <td>6339600</td>\n",
       "      <td>NaN</td>\n",
       "    </tr>\n",
       "    <tr>\n",
       "      <th>9996</th>\n",
       "      <td>46.69</td>\n",
       "      <td>2.398801</td>\n",
       "      <td>-1.973546</td>\n",
       "      <td>5696900</td>\n",
       "      <td>NaN</td>\n",
       "    </tr>\n",
       "    <tr>\n",
       "      <th>9997</th>\n",
       "      <td>47.25</td>\n",
       "      <td>0.931217</td>\n",
       "      <td>3.143418</td>\n",
       "      <td>5396500</td>\n",
       "      <td>NaN</td>\n",
       "    </tr>\n",
       "    <tr>\n",
       "      <th>9998</th>\n",
       "      <td>45.75</td>\n",
       "      <td>0.677596</td>\n",
       "      <td>1.666667</td>\n",
       "      <td>5844200</td>\n",
       "      <td>NaN</td>\n",
       "    </tr>\n",
       "    <tr>\n",
       "      <th>9999</th>\n",
       "      <td>46.19</td>\n",
       "      <td>2.294869</td>\n",
       "      <td>-0.794674</td>\n",
       "      <td>3053600</td>\n",
       "      <td>NaN</td>\n",
       "    </tr>\n",
       "  </tbody>\n",
       "</table>\n",
       "</div>"
      ],
      "text/plain": [
       "      close  HIGHLOW_PCT  PCT_Change   volume  label\n",
       "9995  46.50     2.150538   -0.128866  6339600    NaN\n",
       "9996  46.69     2.398801   -1.973546  5696900    NaN\n",
       "9997  47.25     0.931217    3.143418  5396500    NaN\n",
       "9998  45.75     0.677596    1.666667  5844200    NaN\n",
       "9999  46.19     2.294869   -0.794674  3053600    NaN"
      ]
     },
     "execution_count": 10,
     "metadata": {},
     "output_type": "execute_result"
    }
   ],
   "source": [
    "df.tail()"
   ]
  },
  {
   "cell_type": "code",
   "execution_count": 11,
   "id": "e20f18e9-79be-43a8-a1ed-8a80fbed88d2",
   "metadata": {},
   "outputs": [],
   "source": [
    "X = np.array(df.drop(['label'], axis=1))\n",
    "X = preprocessing.scale(X)\n",
    "X = X[:-forecast_out]\n",
    "X_lately=X[-forecast_out:]\n",
    "\n",
    "\n",
    "df.dropna(inplace=True)\n",
    "y=np.array(df['label'])"
   ]
  },
  {
   "cell_type": "code",
   "execution_count": 14,
   "id": "17947743-c554-4208-b7dc-b1e97fd03dc5",
   "metadata": {},
   "outputs": [],
   "source": [
    "X_train,X_test,y_train,y_test = model_selection.train_test_split(X,y,test_size=0.2)"
   ]
  },
  {
   "cell_type": "code",
   "execution_count": 17,
   "id": "7948807e-ea4b-43be-ba46-d1eedaafc076",
   "metadata": {},
   "outputs": [
    {
     "name": "stdout",
     "output_type": "stream",
     "text": [
      "0.8159037578473376\n"
     ]
    }
   ],
   "source": [
    "clf=svm.SVR()\n",
    "clf.fit(X_train,y_train)\n",
    "accuracy=clf.score(X_test,y_test)\n",
    "print (accuracy)"
   ]
  },
  {
   "cell_type": "code",
   "execution_count": 18,
   "id": "cdbceb9b-45c7-4539-a814-36c1946a99d7",
   "metadata": {},
   "outputs": [
    {
     "name": "stdout",
     "output_type": "stream",
     "text": [
      "[55.4511191  60.71573551 53.73411889 55.49831775 57.45194642 52.97329468\n",
      " 53.17874648 51.47574681 52.67602868 52.38952838 54.05054391 56.18386482\n",
      " 55.23796469 54.34270892 58.67985517 52.90844284 60.86063518 55.83626505\n",
      " 57.71693765 56.7376292  57.82693025 59.078822   55.97299288 63.58995876\n",
      " 53.4133573  53.63356656 56.04686633 54.77041343 56.68260467 55.83356098\n",
      " 58.98320387 56.00506072 54.88562383 58.26146848 55.13836608 55.12013441\n",
      " 54.85678652 59.20916793 53.42496892 50.08169477 57.36881055 57.8964311\n",
      " 52.32721319 55.4747403  57.11355224 56.40376386 57.05177031 58.87853923\n",
      " 58.67025661 59.76650629 57.21617513 54.27771446 59.5272515  55.89978232\n",
      " 59.86378838 59.09247757 61.98211064 61.09601331 60.41015412 60.01253853\n",
      " 58.64664416 58.56101263 58.79770073 61.92067408 57.79909321 59.71293467\n",
      " 59.48120063 55.65010432 52.8109478  53.27682645 52.64370207 54.41463211\n",
      " 54.11582425 53.72169592 54.5170331  56.96003593 61.92951671 51.29883334\n",
      " 46.99191703 52.02992357 47.65123867 51.56629105 52.91689481 53.65161163\n",
      " 52.84208599 53.44641371 47.7360622  51.48001161 50.36633745 46.04828004\n",
      " 46.90479544 47.3430108  47.31084782 49.98199686 62.95183149 60.37827484\n",
      " 55.39202692 57.47865397 55.93051472 56.75631515] 0.8159037578473376 100\n"
     ]
    }
   ],
   "source": [
    "forecast_set=clf.predict(X_lately)\n",
    "print (forecast_set,accuracy,forecast_out)"
   ]
  },
  {
   "cell_type": "code",
   "execution_count": 23,
   "id": "dba1a6bb-7813-448c-9745-d7dfad2bdee0",
   "metadata": {},
   "outputs": [
    {
     "data": {
      "image/png": "[encoded data removed]",
      "text/plain": [
       "<Figure size 640x480 with 1 Axes>"
      ]
     },
     "metadata": {},
     "output_type": "display_data"
    }
   ],
   "source": [
    "import datetime\n",
    "import numpy as np\n",
    "import matplotlib.pyplot as plt\n",
    "\n",
    "df['Forecast'] = np.nan\n",
    "\n",
    "# make sure index is datetime\n",
    "df.index = pd.to_datetime(df.index)\n",
    "\n",
    "last_date = df.iloc[-1].name              # last index value (Timestamp)\n",
    "last_unix = last_date.timestamp()         # convert to unix time (seconds)\n",
    "one_day = 86400                           # seconds in a day\n",
    "next_unix = last_unix + one_day\n",
    "\n",
    "for i in forecast_set:\n",
    "    next_date = datetime.datetime.fromtimestamp(next_unix)  # convert back to datetime\n",
    "    next_unix += one_day\n",
    "    df.loc[next_date] = [np.nan for _ in range(len(df.columns)-1)] + [i]\n",
    "\n",
    "# Plot\n",
    "df['close'].plot()\n",
    "df['Forecast'].plot()\n",
    "plt.legend(loc=4)\n",
    "plt.xlabel('Date')\n",
    "plt.ylabel('Price')\n",
    "plt.show()\n"
   ]
  },
  {
   "cell_type": "markdown",
   "id": "6f0a4fbe-367d-4e06-b77c-f3b6af22ae5e",
   "metadata": {},
   "source": [
    "# -------------------------------------------xxx--------------------------------------------"
   ]
  },
  {
   "cell_type": "code",
   "execution_count": null,
   "id": "3fb9eeb9-a852-4033-9839-8dc28c6cc77a",
   "metadata": {},
   "outputs": [],
   "source": []
  }
 ],
 "metadata": {
  "kernelspec": {
   "display_name": "Python 3 (ipykernel)",
   "language": "python",
   "name": "python3"
  },
  "language_info": {
   "codemirror_mode": {
    "name": "ipython",
    "version": 3
   },
   "file_extension": ".py",
   "mimetype": "text/x-python",
   "name": "python",
   "nbconvert_exporter": "python",
   "pygments_lexer": "ipython3",
   "version": "3.11.0"
  }
 },
 "nbformat": 4,
 "nbformat_minor": 5
}
